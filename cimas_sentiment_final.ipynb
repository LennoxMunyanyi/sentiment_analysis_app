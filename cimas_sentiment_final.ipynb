{
 "cells": [
  {
   "cell_type": "markdown",
   "id": "bc9e7c69",
   "metadata": {},
   "source": [
    "**IMPORTING LIBRARIES**"
   ]
  },
  {
   "cell_type": "code",
   "execution_count": 222,
   "id": "f70debe4",
   "metadata": {},
   "outputs": [],
   "source": [
    "import pandas as pd\n",
    "import numpy as np\n",
    "import tensorflow as tf\n",
    "from tensorflow.keras.models import Model\n",
    "from tensorflow.keras.layers import Input, Embedding, LSTM, Dense, Dropout\n",
    "from tensorflow.keras.preprocessing.text import Tokenizer\n",
    "from tensorflow.keras.preprocessing.sequence import pad_sequences\n",
    "from sklearn.model_selection import train_test_split\n",
    "from sklearn.preprocessing import LabelEncoder\n",
    "from sklearn.metrics import classification_report\n",
    "from sklearn.linear_model import LogisticRegression\n",
    "from sklearn.feature_extraction.text import TfidfVectorizer\n",
    "from sklearn.pipeline import Pipeline\n",
    "from sklearn.metrics import classification_report, confusion_matrix\n",
    "import matplotlib.pyplot as plt\n",
    "from sklearn.metrics import classification_report, confusion_matrix, ConfusionMatrixDisplay\n"
   ]
  },
  {
   "cell_type": "markdown",
   "id": "fc5fd5f5",
   "metadata": {},
   "source": [
    "**DATA IMPORT AND PREPROCESSING**"
   ]
  },
  {
   "cell_type": "code",
   "execution_count": 223,
   "id": "17cb660f",
   "metadata": {},
   "outputs": [],
   "source": [
    "dataset_path = r'C:\\Users\\Lennox\\Documents\\MSU\\dissertations\\muzo\\cimas sentiment\\final\\cimas_feedback_dataset_with_category.csv'\n",
    "df = pd.read_csv(dataset_path)"
   ]
  },
  {
   "cell_type": "code",
   "execution_count": 224,
   "id": "59184587",
   "metadata": {},
   "outputs": [
    {
     "name": "stdout",
     "output_type": "stream",
     "text": [
      "Dataset loaded: 874 samples.\n"
     ]
    }
   ],
   "source": [
    "print(f\"Dataset loaded: {len(df)} samples.\")"
   ]
  },
  {
   "cell_type": "code",
   "execution_count": 225,
   "id": "a43fb442",
   "metadata": {},
   "outputs": [],
   "source": [
    "# Preprocessing\n",
    "# Encoding the 'category' column\n",
    "label_encoder = LabelEncoder()\n",
    "df['category_encoded'] = label_encoder.fit_transform(df['category'])"
   ]
  },
  {
   "cell_type": "code",
   "execution_count": 226,
   "id": "71200071",
   "metadata": {},
   "outputs": [],
   "source": [
    "# Tokenizer\n",
    "tokenizer = Tokenizer(num_words=5000, oov_token=\"<OOV>\")\n",
    "tokenizer.fit_on_texts(df['text'])\n",
    "sequences = tokenizer.texts_to_sequences(df['text'])\n",
    "padded = pad_sequences(sequences, padding='post')"
   ]
  },
  {
   "cell_type": "code",
   "execution_count": 227,
   "id": "b131dabb",
   "metadata": {},
   "outputs": [],
   "source": [
    "X = padded\n",
    "y_sentiment = df['label'].values\n",
    "y_category = df['category_encoded'].values"
   ]
  },
  {
   "cell_type": "code",
   "execution_count": 228,
   "id": "a3dbb74f",
   "metadata": {},
   "outputs": [],
   "source": [
    "# Train/Test Split\n",
    "X_train, X_test, y_sentiment_train, y_sentiment_test, y_category_train, y_category_test = train_test_split(\n",
    "    X, y_sentiment, y_category, test_size=0.2, random_state=42\n",
    ")"
   ]
  },
  {
   "cell_type": "markdown",
   "id": "58d587c4",
   "metadata": {},
   "source": [
    "#### **BUILDING MODELS**"
   ]
  },
  {
   "cell_type": "markdown",
   "id": "34c248d9",
   "metadata": {},
   "source": [
    "**LOGISTIC REGERESSION MODEL**"
   ]
  },
  {
   "cell_type": "code",
   "execution_count": 229,
   "id": "67030357",
   "metadata": {},
   "outputs": [],
   "source": [
    "# LOGISTIC REGRESSION MODEL\n",
    "X_text = df['text'].values\n",
    "y_sentiment = df['label'].values\n",
    "\n",
    "# 2. Shuffle and split before any processing\n",
    "from sklearn.model_selection import train_test_split\n",
    "X_train_text, X_test_text, y_train, y_test = train_test_split(\n",
    "    X_text, y_sentiment, test_size=0.2, random_state=42, stratify=y_sentiment\n",
    ")\n",
    "\n",
    "logreg_pipeline = Pipeline([\n",
    "    ('tfidf', TfidfVectorizer(max_features=5000)),\n",
    "    ('clf', LogisticRegression())\n",
    "])\n",
    "\n",
    "# 4. Train and evaluate\n",
    "logreg_pipeline.fit(X_train_text, y_train)\n",
    "y_pred = logreg_pipeline.predict(X_test_text)\n",
    "\n"
   ]
  },
  {
   "cell_type": "markdown",
   "id": "05be085f",
   "metadata": {},
   "source": [
    "**LOGISTIC REGRESSION MODEL EVALUATION**"
   ]
  },
  {
   "cell_type": "code",
   "execution_count": 230,
   "id": "6c4e51bb",
   "metadata": {},
   "outputs": [
    {
     "name": "stdout",
     "output_type": "stream",
     "text": [
      "              precision    recall  f1-score   support\n",
      "\n",
      "           0       1.00      0.99      0.99        86\n",
      "           1       0.96      1.00      0.98        85\n",
      "           2       1.00      0.25      0.40         4\n",
      "\n",
      "    accuracy                           0.98       175\n",
      "   macro avg       0.99      0.75      0.79       175\n",
      "weighted avg       0.98      0.98      0.97       175\n",
      "\n",
      "[[85  1  0]\n",
      " [ 0 85  0]\n",
      " [ 0  3  1]]\n"
     ]
    }
   ],
   "source": [
    "print(classification_report(y_test, y_pred))\n",
    "print(confusion_matrix(y_test, y_pred))"
   ]
  },
  {
   "cell_type": "markdown",
   "id": "2eecb272",
   "metadata": {},
   "source": [
    "**NAIVE BAYES MODEL**"
   ]
  },
  {
   "cell_type": "code",
   "execution_count": 231,
   "id": "f10b028c",
   "metadata": {},
   "outputs": [],
   "source": [
    "from sklearn.naive_bayes import MultinomialNB\n",
    "\n",
    "# Building pipeline: TF-IDF + Naive Bayes\n",
    "nb_pipeline = Pipeline([\n",
    "    ('tfidf', TfidfVectorizer(max_features=5000)),\n",
    "    ('clf', MultinomialNB())\n",
    "])\n",
    "\n",
    "# Training the Naive Bayes model\n",
    "nb_pipeline.fit(X_train_text, y_train)\n",
    "\n",
    "# Predicting\n",
    "y_pred_nb = nb_pipeline.predict(X_test_text)\n"
   ]
  },
  {
   "cell_type": "markdown",
   "id": "cc2f3919",
   "metadata": {},
   "source": [
    "**NAIVE BAYES MODEL EVALUATION**"
   ]
  },
  {
   "cell_type": "code",
   "execution_count": 232,
   "id": "01bdbdac",
   "metadata": {},
   "outputs": [
    {
     "name": "stdout",
     "output_type": "stream",
     "text": [
      "🔍 Multinomial Naive Bayes Performance:\n",
      "\n",
      "              precision    recall  f1-score   support\n",
      "\n",
      "           0       1.00      0.99      0.99        86\n",
      "           1       0.96      1.00      0.98        85\n",
      "           2       1.00      0.25      0.40         4\n",
      "\n",
      "    accuracy                           0.98       175\n",
      "   macro avg       0.99      0.75      0.79       175\n",
      "weighted avg       0.98      0.98      0.97       175\n",
      "\n",
      "Confusion Matrix:\n",
      " [[85  1  0]\n",
      " [ 0 85  0]\n",
      " [ 0  3  1]]\n"
     ]
    }
   ],
   "source": [
    "print(\"🔍 Multinomial Naive Bayes Performance:\\n\")\n",
    "print(classification_report(y_test, y_pred_nb))\n",
    "print(\"Confusion Matrix:\\n\", confusion_matrix(y_test, y_pred_nb))"
   ]
  },
  {
   "cell_type": "markdown",
   "id": "ee4c7a7d",
   "metadata": {},
   "source": [
    "**CHECKING DATA ISSUES QUALITY**"
   ]
  },
  {
   "cell_type": "code",
   "execution_count": 233,
   "id": "56d74152",
   "metadata": {},
   "outputs": [
    {
     "name": "stdout",
     "output_type": "stream",
     "text": [
      " Common Positive Words: [('service', 89), ('the', 76), ('new', 74), ('customer', 68), ('zvikuru', 67), ('renyu', 66), ('was', 66), ('you', 66), ('care', 66), ('basa', 65)]\n",
      " Common Negative Words: [('customer', 72), ('received', 72), ('care', 71), ('ever', 69), ('forever', 68), ('in', 68), ('takes', 67), ('insurance', 66), ('service', 66), ('delivery', 66)]\n"
     ]
    }
   ],
   "source": [
    "#CHECKING MOST FREQUENT WORDS IN POSITIVE AND NEGATIVE REVIEWS\n",
    "from collections import Counter\n",
    "\n",
    "pos_words = ' '.join(df[df['label'] == 1]['text']).split()\n",
    "neg_words = ' '.join(df[df['label'] == 0]['text']).split()\n",
    "\n",
    "print(\" Common Positive Words:\", Counter(pos_words).most_common(10))\n",
    "print(\" Common Negative Words:\", Counter(neg_words).most_common(10))\n"
   ]
  },
  {
   "cell_type": "markdown",
   "id": "24f8222b",
   "metadata": {},
   "source": [
    "**SVM - LINEAR SUPPORT VECTOR CLASSIFIER**"
   ]
  },
  {
   "cell_type": "code",
   "execution_count": 234,
   "id": "899ae182",
   "metadata": {},
   "outputs": [],
   "source": [
    "from sklearn.svm import LinearSVC\n",
    "\n",
    "# Building pipeline: TF-IDF + SVM\n",
    "svm_pipeline = Pipeline([\n",
    "    ('tfidf', TfidfVectorizer(max_features=5000)),\n",
    "    ('clf', LinearSVC())\n",
    "])\n",
    "\n",
    "# Training the SVM model\n",
    "svm_pipeline.fit(X_train_text, y_train)\n",
    "\n",
    "# Predicting on the test set\n",
    "y_pred_svm = svm_pipeline.predict(X_test_text)\n"
   ]
  },
  {
   "cell_type": "markdown",
   "id": "811a20cc",
   "metadata": {},
   "source": [
    "**SVM EVALUATION**"
   ]
  },
  {
   "cell_type": "code",
   "execution_count": 235,
   "id": "26194550",
   "metadata": {},
   "outputs": [
    {
     "name": "stdout",
     "output_type": "stream",
     "text": [
      "              precision    recall  f1-score   support\n",
      "\n",
      "           0       1.00      0.99      0.99        86\n",
      "           1       0.98      1.00      0.99        85\n",
      "           2       1.00      0.75      0.86         4\n",
      "\n",
      "    accuracy                           0.99       175\n",
      "   macro avg       0.99      0.91      0.95       175\n",
      "weighted avg       0.99      0.99      0.99       175\n",
      "\n",
      "Confusion Matrix:\n",
      " [[85  1  0]\n",
      " [ 0 85  0]\n",
      " [ 0  1  3]]\n"
     ]
    }
   ],
   "source": [
    "\n",
    "print(classification_report(y_test, y_pred_svm))\n",
    "print(\"Confusion Matrix:\\n\", confusion_matrix(y_test, y_pred_svm))"
   ]
  },
  {
   "cell_type": "markdown",
   "id": "3403f24e",
   "metadata": {},
   "source": [
    "#### **MODEL CLASSIFICATION REPORTS**"
   ]
  },
  {
   "cell_type": "code",
   "execution_count": 236,
   "id": "ec367251",
   "metadata": {},
   "outputs": [],
   "source": [
    "from sklearn.metrics import classification_report\n",
    "# Logistic Regression\n",
    "report_logreg = classification_report(y_test, y_pred, output_dict=True)\n",
    "# Naive Bayes\n",
    "report_nb = classification_report(y_test, y_pred_nb, output_dict=True)\n",
    "# SVM\n",
    "report_svm = classification_report(y_test, y_pred_svm, output_dict=True)"
   ]
  },
  {
   "cell_type": "code",
   "execution_count": 237,
   "id": "714ca042",
   "metadata": {},
   "outputs": [],
   "source": [
    "import pandas as pd\n",
    "df_logreg = pd.DataFrame(report_logreg).transpose()\n",
    "df_nb = pd.DataFrame(report_nb).transpose()\n",
    "df_svm = pd.DataFrame(report_svm).transpose()\n"
   ]
  },
  {
   "cell_type": "code",
   "execution_count": 238,
   "id": "20bcefe3",
   "metadata": {},
   "outputs": [
    {
     "name": "stdout",
     "output_type": "stream",
     "text": [
      "\n",
      "🔍 Logistic Regression Classification Report\n",
      "              precision  recall  f1-score   support\n",
      "0                1.0000  0.9884    0.9942   86.0000\n",
      "1                0.9551  1.0000    0.9770   85.0000\n",
      "2                1.0000  0.2500    0.4000    4.0000\n",
      "accuracy         0.9771  0.9771    0.9771    0.9771\n",
      "macro avg        0.9850  0.7461    0.7904  175.0000\n",
      "weighted avg     0.9782  0.9771    0.9722  175.0000\n",
      "\n",
      "🔍 Naive Bayes Classification Report\n",
      "              precision  recall  f1-score   support\n",
      "0                1.0000  0.9884    0.9942   86.0000\n",
      "1                0.9551  1.0000    0.9770   85.0000\n",
      "2                1.0000  0.2500    0.4000    4.0000\n",
      "accuracy         0.9771  0.9771    0.9771    0.9771\n",
      "macro avg        0.9850  0.7461    0.7904  175.0000\n",
      "weighted avg     0.9782  0.9771    0.9722  175.0000\n",
      "\n",
      "🔍 SVM Classification Report\n",
      "              precision  recall  f1-score   support\n",
      "0                1.0000  0.9884    0.9942   86.0000\n",
      "1                0.9770  1.0000    0.9884   85.0000\n",
      "2                1.0000  0.7500    0.8571    4.0000\n",
      "accuracy         0.9886  0.9886    0.9886    0.9886\n",
      "macro avg        0.9923  0.9128    0.9466  175.0000\n",
      "weighted avg     0.9888  0.9886    0.9882  175.0000\n"
     ]
    }
   ],
   "source": [
    "print(\"\\n🔍 Logistic Regression Classification Report\")\n",
    "print(df_logreg.round(4))\n",
    "\n",
    "print(\"\\n🔍 Naive Bayes Classification Report\")\n",
    "print(df_nb.round(4))\n",
    "\n",
    "print(\"\\n🔍 SVM Classification Report\")\n",
    "print(df_svm.round(4))\n"
   ]
  },
  {
   "cell_type": "markdown",
   "id": "ca19e020",
   "metadata": {},
   "source": [
    "**CONFUSIN MATRICES**"
   ]
  },
  {
   "cell_type": "code",
   "execution_count": 239,
   "id": "9630433d",
   "metadata": {},
   "outputs": [
    {
     "data": {
      "image/png": "[encoded data removed]",
      "text/plain": [
       "<Figure size 1800x500 with 3 Axes>"
      ]
     },
     "metadata": {},
     "output_type": "display_data"
    }
   ],
   "source": [
    "fig, axes = plt.subplots(1, 3, figsize=(18, 5))\n",
    "\n",
    "titles = [\"Logistic Regression\", \"Naive Bayes\", \"SVM (LinearSVC)\"]\n",
    "predictions = [y_pred, y_pred_nb, y_pred_svm]\n",
    "\n",
    "for ax, preds, title in zip(axes, predictions, titles):\n",
    "    cm = confusion_matrix(y_test, preds, labels=[0, 1, 2])\n",
    "    disp = ConfusionMatrixDisplay(confusion_matrix=cm, display_labels=[0, 1, 2])\n",
    "    disp.plot(ax=ax, cmap=\"Blues\", colorbar=False)\n",
    "    ax.set_title(f\"Confusion Matrix: {title}\")\n",
    "\n",
    "plt.tight_layout()\n",
    "plt.show()"
   ]
  },
  {
   "cell_type": "markdown",
   "id": "40b6adc4",
   "metadata": {},
   "source": [
    "**MISCLASSIFICATION COUNT PLOT**"
   ]
  },
  {
   "cell_type": "code",
   "execution_count": 240,
   "id": "64dcf3b1",
   "metadata": {},
   "outputs": [
    {
     "name": "stderr",
     "output_type": "stream",
     "text": [
      "C:\\Users\\Lennox\\AppData\\Local\\Temp\\ipykernel_20588\\4105771280.py:35: UserWarning: Glyph 128269 (\\N{LEFT-POINTING MAGNIFYING GLASS}) missing from font(s) DejaVu Sans.\n",
      "  plt.tight_layout()\n",
      "C:\\Users\\Lennox\\AppData\\Roaming\\Python\\Python312\\site-packages\\IPython\\core\\pylabtools.py:170: UserWarning: Glyph 128269 (\\N{LEFT-POINTING MAGNIFYING GLASS}) missing from font(s) DejaVu Sans.\n",
      "  fig.canvas.print_figure(bytes_io, **kw)\n"
     ]
    },
    {
     "data": {
      "image/png": "[encoded data removed]",
      "text/plain": [
       "<Figure size 1000x600 with 1 Axes>"
      ]
     },
     "metadata": {},
     "output_type": "display_data"
    }
   ],
   "source": [
    "import seaborn as sns\n",
    "\n",
    "# Identifying misclassified samples\n",
    "misclassified_logreg = (y_test != y_pred)\n",
    "misclassified_nb = (y_test != y_pred_nb)\n",
    "misclassified_svm = (y_test != y_pred_svm)\n",
    "\n",
    "# Preparing error data\n",
    "error_data = {\n",
    "    \"Model\": [],\n",
    "    \"True Label\": []\n",
    "}\n",
    "\n",
    "for i in range(len(y_test)):\n",
    "    if misclassified_logreg[i]:\n",
    "        error_data[\"Model\"].append(\"Logistic Regression\")\n",
    "        error_data[\"True Label\"].append(y_test[i])\n",
    "    if misclassified_nb[i]:\n",
    "        error_data[\"Model\"].append(\"Naive Bayes\")\n",
    "        error_data[\"True Label\"].append(y_test[i])\n",
    "    if misclassified_svm[i]:\n",
    "        error_data[\"Model\"].append(\"SVM\")\n",
    "        error_data[\"True Label\"].append(y_test[i])\n",
    "\n",
    "# Converting to DataFrame\n",
    "df_errors = pd.DataFrame(error_data)\n",
    "\n",
    "# Plot misclassification counts\n",
    "plt.figure(figsize=(10, 6))\n",
    "sns.countplot(data=df_errors, x=\"True Label\", hue=\"Model\")\n",
    "plt.title(\"🔍 Misclassified Samples by Model and True Sentiment Label\")\n",
    "plt.xlabel(\"True Sentiment Label\")\n",
    "plt.ylabel(\"Count of Misclassifications\")\n",
    "plt.legend(title=\"Model\")\n",
    "plt.tight_layout()\n",
    "plt.show()\n"
   ]
  },
  {
   "cell_type": "markdown",
   "id": "05d38fc3",
   "metadata": {},
   "source": [
    "**DEPLOYING THE MODEL**"
   ]
  },
  {
   "cell_type": "code",
   "execution_count": 241,
   "id": "aff9f122",
   "metadata": {},
   "outputs": [],
   "source": [
    "import pickle\n",
    "\n",
    "# Saving the entire pipeline (vectorizer + model)\n",
    "with open(\"svm_pipeline.pkl\", \"wb\") as f:\n",
    "    pickle.dump(svm_pipeline, f)\n"
   ]
  }
 ],
 "metadata": {
  "kernelspec": {
   "display_name": "Python 3",
   "language": "python",
   "name": "python3"
  },
  "language_info": {
   "codemirror_mode": {
    "name": "ipython",
    "version": 3
   },
   "file_extension": ".py",
   "mimetype": "text/x-python",
   "name": "python",
   "nbconvert_exporter": "python",
   "pygments_lexer": "ipython3",
   "version": "3.12.2"
  }
 },
 "nbformat": 4,
 "nbformat_minor": 5
}
